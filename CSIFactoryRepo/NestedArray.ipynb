{
  "nbformat": 4,
  "nbformat_minor": 2,
  "cells": [
    {
      "cell_type": "markdown",
      "metadata": {
        "nteract": {
          "transient": {
            "deleting": false
          }
        }
      },
      "source": [
        "### Load Json from Storage Layer"
      ]
    },
    {
      "cell_type": "code",
      "execution_count": 30,
      "outputs": [],
      "metadata": {
        "microsoft": {
          "language": "python"
        },
        "collapsed": false
      },
      "source": [
        "%%pyspark\r\n",
        "df = spark.read.load('abfss://synapsecontainer@adlsg2poc.dfs.core.windows.net/0_f90ab0ed97844fa781de699ccf0dfd7f_1.json', format='json')\r\n",
        "#display(df.limit(10))"
      ]
    },
    {
      "cell_type": "markdown",
      "metadata": {
        "nteract": {
          "transient": {
            "deleting": false
          }
        }
      },
      "source": [
        "### Print Schema and copy schema if needed"
      ]
    },
    {
      "cell_type": "code",
      "execution_count": 31,
      "outputs": [],
      "metadata": {
        "jupyter": {
          "source_hidden": false,
          "outputs_hidden": false
        },
        "nteract": {
          "transient": {
            "deleting": false
          }
        }
      },
      "source": [
        "display(df.printSchema())"
      ]
    },
    {
      "cell_type": "markdown",
      "metadata": {
        "nteract": {
          "transient": {
            "deleting": false
          }
        }
      },
      "source": [
        "### Json Nested array Explode to flatten in dataframe"
      ]
    },
    {
      "cell_type": "code",
      "execution_count": null,
      "outputs": [],
      "metadata": {
        "jupyter": {
          "source_hidden": false,
          "outputs_hidden": false
        },
        "nteract": {
          "transient": {
            "deleting": false
          }
        },
        "collapsed": false
      },
      "source": [
        "\r\n",
        "from pyspark.sql import functions as f\r\n",
        "\r\n",
        "df2 = df.withColumn(\"gatewayDataexp\",f.explode('gatewayData'))\r\n",
        "df3 = df2.withColumn(\"vqtsexp\",f.explode('gatewayDataexp.vqts'))\r\n",
        "\r\n",
        ""
      ]
    },
    {
      "cell_type": "markdown",
      "metadata": {
        "nteract": {
          "transient": {
            "deleting": false
          }
        }
      },
      "source": [
        "### Select required columns from flattened dataframe"
      ]
    },
    {
      "cell_type": "code",
      "execution_count": 83,
      "outputs": [],
      "metadata": {
        "jupyter": {
          "source_hidden": false,
          "outputs_hidden": false
        },
        "nteract": {
          "transient": {
            "deleting": false
          }
        }
      },
      "source": [
        "df_final = df3.selectExpr(\"ConnectionDeviceId\",\"EventProcessedUtcTime\",\"EventEnqueuedUtcTime\",\"ConnectionDeviceId\",\"gatewayDataexp.model_id as model_id\",\"gatewayDataexp.tag_id as tag_id\"\r\n",
        ",\"vqtsexp.v as v\",\"vqtsexp.q as q\",\"vqtsexp.t as t\"\r\n",
        ")\r\n",
        ""
      ]
    },
    {
      "cell_type": "markdown",
      "metadata": {
        "nteract": {
          "transient": {
            "deleting": false
          }
        }
      },
      "source": [
        "### Unit tests to verify data against source json "
      ]
    },
    {
      "cell_type": "code",
      "execution_count": 86,
      "outputs": [],
      "metadata": {
        "jupyter": {
          "source_hidden": false,
          "outputs_hidden": false
        },
        "nteract": {
          "transient": {
            "deleting": false
          }
        },
        "collapsed": false
      },
      "source": [
        "display(df3.filter(\"EventEnqueuedUtcTime == '2022-10-20T20:42:23.8380000Z' and vqtsexp.v='13'\"))"
      ]
    },
    {
      "cell_type": "code",
      "execution_count": 76,
      "outputs": [],
      "metadata": {
        "jupyter": {
          "source_hidden": false,
          "outputs_hidden": false
        },
        "nteract": {
          "transient": {
            "deleting": false
          }
        },
        "collapsed": false
      },
      "source": [
        "display(df3.filter(\"EventEnqueuedUtcTime == '2022-10-20T20:42:23.8380000Z' and gatewayDataexp.model_id =='tb1_process_do.FinishedVial.DryFill.FinishTime.Year' \"))"
      ]
    },
    {
      "cell_type": "code",
      "execution_count": 85,
      "outputs": [],
      "metadata": {
        "jupyter": {
          "source_hidden": false,
          "outputs_hidden": false
        },
        "nteract": {
          "transient": {
            "deleting": false
          }
        },
        "collapsed": false
      },
      "source": [
        "display(df_final.filter(\"v='2022'\"))"
      ]
    }
  ],
  "metadata": {
    "description": null,
    "save_output": true,
    "language_info": {
      "name": "python"
    }
  }
}