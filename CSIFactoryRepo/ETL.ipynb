{
  "nbformat": 4,
  "nbformat_minor": 2,
  "cells": [
    {
      "cell_type": "code",
      "execution_count": 1,
      "outputs": [],
      "metadata": {
        "jupyter": {
          "source_hidden": false,
          "outputs_hidden": false
        },
        "nteract": {
          "transient": {
            "deleting": false
          }
        }
      },
      "source": [
        "from pyspark.sql.functions import from_json, col\r\n",
        "from pyspark.sql.types import StructType, StructField, StringType, DoubleType"
      ]
    },
    {
      "cell_type": "code",
      "execution_count": null,
      "outputs": [],
      "metadata": {
        "jupyter": {
          "source_hidden": false,
          "outputs_hidden": false
        },
        "nteract": {
          "transient": {
            "deleting": false
          }
        }
      },
      "source": [
        "#import org.apache.spark.sql.types._"
      ]
    },
    {
      "cell_type": "code",
      "execution_count": 190,
      "outputs": [],
      "metadata": {
        "jupyter": {
          "source_hidden": false,
          "outputs_hidden": false
        },
        "nteract": {
          "transient": {
            "deleting": false
          }
        }
      },
      "source": [
        "#jsonpath = \"abfss://csiwkproot@csiwkpstore.dfs.core.windows.net/vialtest/0_c63a2568cd1a4d99922c68f3b6283d3f_1.json\"\r\n",
        "jsonpath = \"abfss://csiwkproot@csiwkpstore.dfs.core.windows.net/vialtest/*.json\""
      ]
    },
    {
      "cell_type": "code",
      "execution_count": 191,
      "outputs": [],
      "metadata": {
        "jupyter": {
          "source_hidden": false,
          "outputs_hidden": false
        },
        "nteract": {
          "transient": {
            "deleting": false
          }
        }
      },
      "source": [
        "from pyspark.sql.types import *\r\n",
        "\r\n",
        "schema = StructType([\r\n",
        "  StructField(\"ConnectionDeviceId\", StringType()),\r\n",
        "  StructField(\"EnqueuedTime\", StringType()),\r\n",
        "  StructField(\"EventEnqueuedUtcTime\", StringType()),\r\n",
        "  StructField(\"EventProcessedUtcTime\", StringType()),\r\n",
        "  StructField(\"gatewayData\", ArrayType(\r\n",
        "      StructType([\r\n",
        "          StructField(\"mimeType\", StringType()),\r\n",
        "          StructField(\"model_id\", StringType()),\r\n",
        "          StructField(\"tag_id\", StringType()),\r\n",
        "          StructField(\"vqts\", ArrayType(\r\n",
        "              StructType([\r\n",
        "                      StructField('q', StringType()),\r\n",
        "                      StructField('t', StringType()),\r\n",
        "                      StructField('v', StringType())\r\n",
        "                  ])\r\n",
        "                )\r\n",
        "            )\r\n",
        "        ])\r\n",
        "    )\r\n",
        ")\r\n",
        "])"
      ]
    },
    {
      "cell_type": "code",
      "execution_count": 192,
      "outputs": [],
      "metadata": {
        "jupyter": {
          "source_hidden": false,
          "outputs_hidden": false
        },
        "nteract": {
          "transient": {
            "deleting": false
          }
        }
      },
      "source": [
        "df = spark.read.schema(schema).json(jsonpath)"
      ]
    },
    {
      "cell_type": "code",
      "execution_count": null,
      "outputs": [],
      "metadata": {
        "jupyter": {
          "source_hidden": false,
          "outputs_hidden": false
        },
        "nteract": {
          "transient": {
            "deleting": false
          }
        },
        "collapsed": false
      },
      "source": [
        "#display(df)"
      ]
    },
    {
      "cell_type": "code",
      "execution_count": 193,
      "outputs": [],
      "metadata": {
        "jupyter": {
          "source_hidden": false,
          "outputs_hidden": false
        },
        "nteract": {
          "transient": {
            "deleting": false
          }
        }
      },
      "source": [
        "df.printSchema"
      ]
    },
    {
      "cell_type": "code",
      "execution_count": null,
      "outputs": [],
      "metadata": {
        "jupyter": {
          "source_hidden": false,
          "outputs_hidden": false
        },
        "nteract": {
          "transient": {
            "deleting": false
          }
        },
        "collapsed": false
      },
      "source": [
        "#display(df.select(\"ConnectionDeviceId\", \"gatewayData.tag_id\", \"gatewayData.vqts\"))"
      ]
    },
    {
      "cell_type": "code",
      "execution_count": 194,
      "outputs": [],
      "metadata": {
        "jupyter": {
          "source_hidden": false,
          "outputs_hidden": false
        },
        "nteract": {
          "transient": {
            "deleting": false
          }
        }
      },
      "source": [
        "from pyspark.sql.functions import split, explode\r\n",
        "\r\n",
        "#df.select(col(\"ConnectionDeviceId\"), explode(col(\"gatewayData.tag_id\")).alias(\"tag_id\")).show()"
      ]
    },
    {
      "cell_type": "code",
      "execution_count": 195,
      "outputs": [],
      "metadata": {
        "jupyter": {
          "source_hidden": false,
          "outputs_hidden": false
        },
        "nteract": {
          "transient": {
            "deleting": false
          }
        }
      },
      "source": [
        "import pyspark.sql.functions as f\r\n",
        "from pyspark.sql.types import *\r\n",
        "\r\n",
        "df = df.withColumn('tag_id', f.explode('gatewayData.tag_id'))\r\n",
        "df = df.withColumn('vqts', f.explode('gatewayData.vqts'))"
      ]
    },
    {
      "cell_type": "code",
      "execution_count": null,
      "outputs": [],
      "metadata": {
        "jupyter": {
          "source_hidden": false,
          "outputs_hidden": false
        },
        "nteract": {
          "transient": {
            "deleting": false
          }
        },
        "collapsed": false
      },
      "source": [
        "display(df)"
      ]
    },
    {
      "cell_type": "code",
      "execution_count": 196,
      "outputs": [],
      "metadata": {
        "jupyter": {
          "source_hidden": false,
          "outputs_hidden": false
        },
        "nteract": {
          "transient": {
            "deleting": false
          }
        }
      },
      "source": [
        "df = df.withColumn('vqts1', f.explode('vqts'))"
      ]
    },
    {
      "cell_type": "code",
      "execution_count": null,
      "outputs": [],
      "metadata": {
        "jupyter": {
          "source_hidden": false,
          "outputs_hidden": false
        },
        "nteract": {
          "transient": {
            "deleting": false
          }
        },
        "collapsed": false
      },
      "source": [
        "display(df)"
      ]
    },
    {
      "cell_type": "code",
      "execution_count": null,
      "outputs": [],
      "metadata": {
        "jupyter": {
          "source_hidden": false,
          "outputs_hidden": false
        },
        "nteract": {
          "transient": {
            "deleting": false
          }
        }
      },
      "source": [
        "from pyspark.sql.functions import *\r\n",
        "\r\n",
        "df = df.withColumn('q', regexp_replace(df[\"vqts.q\"], '[', ''))\r\n",
        "df = df.withColumn('q', regexp_replace(df[\"vqts.q\"], ']', ''))\r\n",
        "df = df.withColumn('t', regexp_replace(df[\"vqts.t\"], '[', ''))\r\n",
        "df = df.withColumn('t', regexp_replace(df[\"vqts.t\"], ']', ''))\r\n",
        "df = df.withColumn('v', regexp_replace(df[\"vqts.v\"], '[', ''))\r\n",
        "df = df.withColumn('v', regexp_replace(df[\"vqts.v\"], ']', ''))"
      ]
    },
    {
      "cell_type": "code",
      "execution_count": null,
      "outputs": [],
      "metadata": {
        "jupyter": {
          "source_hidden": false,
          "outputs_hidden": false
        },
        "nteract": {
          "transient": {
            "deleting": false
          }
        }
      },
      "source": [
        "df = df.withColumn('q1', regexp_replace(df[\"q\"], '[', ''))\r\n",
        "df = df.withColumn('t1', regexp_replace(df[\"t\"], '[', ''))\r\n",
        "df = df.withColumn('v1', regexp_replace(df[\"v\"], '[', ''))"
      ]
    },
    {
      "cell_type": "code",
      "execution_count": null,
      "outputs": [],
      "metadata": {
        "jupyter": {
          "source_hidden": false,
          "outputs_hidden": false
        },
        "nteract": {
          "transient": {
            "deleting": false
          }
        },
        "collapsed": false
      },
      "source": [
        "#display(df)"
      ]
    },
    {
      "cell_type": "code",
      "execution_count": 186,
      "outputs": [],
      "metadata": {
        "jupyter": {
          "source_hidden": false,
          "outputs_hidden": false
        },
        "nteract": {
          "transient": {
            "deleting": false
          }
        }
      },
      "source": [
        "#df.select(\"ConnectionDeviceId\", \"tag_id\", \"vqts1.q\", \"vqts1.t\", \"vqts1.v\").show()"
      ]
    },
    {
      "cell_type": "code",
      "execution_count": 198,
      "outputs": [],
      "metadata": {
        "jupyter": {
          "source_hidden": false,
          "outputs_hidden": false
        },
        "nteract": {
          "transient": {
            "deleting": false
          }
        },
        "collapsed": false
      },
      "source": [
        "display(df.select(\"ConnectionDeviceId\", \"tag_id\", \"vqts1.q\", \"vqts1.t\", \"vqts1.v\"))"
      ]
    },
    {
      "cell_type": "code",
      "execution_count": 188,
      "outputs": [],
      "metadata": {
        "jupyter": {
          "source_hidden": false,
          "outputs_hidden": false
        },
        "nteract": {
          "transient": {
            "deleting": false
          }
        }
      },
      "source": [
        "df.select(\"ConnectionDeviceId\", \"tag_id\", \"vqts1.q\", \"vqts1.t\", \"vqts1.v\").repartition(1).write.mode(\"overwrite\").parquet('abfss://csiwkproot@csiwkpstore.dfs.core.windows.net/rawdata/')"
      ]
    },
    {
      "cell_type": "code",
      "execution_count": 199,
      "outputs": [],
      "metadata": {
        "jupyter": {
          "source_hidden": false,
          "outputs_hidden": false
        },
        "nteract": {
          "transient": {
            "deleting": false
          }
        }
      },
      "source": [
        "df1 = df.select(\"ConnectionDeviceId\", \"tag_id\", \"vqts1.q\", \"vqts1.t\", \"vqts1.v\")"
      ]
    },
    {
      "cell_type": "code",
      "execution_count": 204,
      "outputs": [],
      "metadata": {
        "jupyter": {
          "source_hidden": false,
          "outputs_hidden": false
        },
        "nteract": {
          "transient": {
            "deleting": false
          }
        }
      },
      "source": [
        "from pyspark.sql.functions import *\r\n",
        "\r\n",
        "pivotDF = df1.groupBy('t', 'tag_id').pivot(\"tag_id\").agg(first(\"v\"))\r\n",
        "pivotDF.show()"
      ]
    },
    {
      "cell_type": "code",
      "execution_count": null,
      "outputs": [],
      "metadata": {
        "jupyter": {
          "source_hidden": false,
          "outputs_hidden": false
        },
        "nteract": {
          "transient": {
            "deleting": false
          }
        }
      },
      "source": [
        ""
      ]
    }
  ],
  "metadata": {
    "description": null,
    "save_output": true,
    "language_info": {
      "name": "python"
    }
  }
}