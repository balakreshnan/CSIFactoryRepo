{
  "nbformat": 4,
  "nbformat_minor": 2,
  "cells": [
    {
      "cell_type": "code",
      "execution_count": null,
      "outputs": [],
      "metadata": {},
      "source": [
        "%%pyspark\r\n",
        "df = spark.read.load('abfss://csiwkproot@csiwkpstore.dfs.core.windows.net/pivotdata/part-00000-38ee74c4-e043-4b09-9075-b4e40a6124d7-c000.snappy.parquet', format='parquet')\r\n",
        "display(df.limit(10))"
      ]
    }
  ],
  "metadata": {
    "description": null,
    "save_output": true,
    "language_info": {
      "name": "python"
    }
  }
}